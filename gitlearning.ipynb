{
 "cells": [
  {
   "cell_type": "code",
   "execution_count": null,
   "source": [
    "#安装 sudo apt install git-all\n",
    "\n",
    "#需提供用户名和邮箱地址\n",
    "#git config --global user.name \"username\"\n",
    "#git config --global user.email \"username@example.com\"\n",
    "\n",
    "#以git_practice为基本来探索git\n",
    "\n",
    "#自动生成pyc，储存在__pycache__中，应该忽略\n",
    "#忽略方法：创建.gitignore 加上__pycache__即可\n",
    "\n",
    "#关键：要在你要保存的项目目录里做如下操作！\n",
    "\n",
    "#初始化仓库\n",
    "#git_practice$ git init,注意前边是目录名\n",
    "#Initialized empty Git repository in git_practic/.git/\n",
    "#git_practice$\n",
    "#初始化了一个空仓库，有一个隐藏目录，不用与其打交道，但是绝对不能删除\n",
    "\n",
    "#检查状态 git status\n",
    "#分支是项目的一个版本\n",
    "#提交是项目再特定时点的快照，comits提交\n",
    "#自动指出了可能需要加入到仓库里的未跟踪文件\n",
    "\n",
    "#加入仓库： git add . ,这个命令是全加入,加完无提示，用git status查看\n",
    "\n",
    "#执行提交 git commit -m \"Started project.\",用于拍摄快照，-m让git将接下来的消息记录到项目的历史记录中\n",
    "#正常的信息：分支在master上，工作树是干净的，否则有可能提交之前忘记了添加\n",
    "\n",
    "#查看提交历史, git log\n",
    "\n",
    "#第二次提交，即修改后再提交,修改后git status会指出"
   ],
   "outputs": [],
   "metadata": {}
  },
  {
   "cell_type": "code",
   "execution_count": null,
   "source": [
    "\n",
    "\n"
   ],
   "outputs": [],
   "metadata": {}
  }
 ],
 "metadata": {
  "orig_nbformat": 4,
  "language_info": {
   "name": "python"
  }
 },
 "nbformat": 4,
 "nbformat_minor": 2
}